{
 "cells": [
  {
   "cell_type": "code",
   "execution_count": 7,
   "metadata": {},
   "outputs": [],
   "source": [
    "#FUNCTION TO DISPLAY A RANGE OF NUMBERS\n",
    "\n",
    "def rangeOfNumbers(num1, num2):\n",
    "    if(num1 < num2):\n",
    "        r = \"Range of Numbers between {} and {}\"\n",
    "        print(r.format(num1, num2))\n",
    "        while(num1 <= num2):\n",
    "            print(num1)\n",
    "            num1 += 1\n",
    "    elif(num2 < num1):\n",
    "        r = \"Range of Numbers between {} and {}\"\n",
    "        print(r.format(num2, num1))\n",
    "        while(num2 <= num1):\n",
    "            print(num2)\n",
    "            num2 += 1\n",
    "    else:\n",
    "        print(\"Sorry, we can't work with these values\")"
   ]
  },
  {
   "cell_type": "code",
   "execution_count": 8,
   "metadata": {},
   "outputs": [
    {
     "name": "stdout",
     "output_type": "stream",
     "text": [
      "Range of Numbers between 20 and 40\n",
      "20\n",
      "21\n",
      "22\n",
      "23\n",
      "24\n",
      "25\n",
      "26\n",
      "27\n",
      "28\n",
      "29\n",
      "30\n",
      "31\n",
      "32\n",
      "33\n",
      "34\n",
      "35\n",
      "36\n",
      "37\n",
      "38\n",
      "39\n",
      "40\n"
     ]
    }
   ],
   "source": [
    "rangeOfNumbers(20,40)"
   ]
  },
  {
   "cell_type": "code",
   "execution_count": 9,
   "metadata": {},
   "outputs": [
    {
     "name": "stdout",
     "output_type": "stream",
     "text": [
      "Range of Numbers between 10 and 30\n",
      "10\n",
      "11\n",
      "12\n",
      "13\n",
      "14\n",
      "15\n",
      "16\n",
      "17\n",
      "18\n",
      "19\n",
      "20\n",
      "21\n",
      "22\n",
      "23\n",
      "24\n",
      "25\n",
      "26\n",
      "27\n",
      "28\n",
      "29\n",
      "30\n"
     ]
    }
   ],
   "source": [
    "rangeOfNumbers(30,10)"
   ]
  },
  {
   "cell_type": "code",
   "execution_count": 6,
   "metadata": {},
   "outputs": [
    {
     "name": "stdout",
     "output_type": "stream",
     "text": [
      "Sorry, we can't work with these values\n"
     ]
    }
   ],
   "source": [
    "rangeOfNumbers(5,5)"
   ]
  },
  {
   "cell_type": "code",
   "execution_count": 10,
   "metadata": {},
   "outputs": [],
   "source": [
    "#FUNCTION TO SUM ALL THE NUMBERS BETWEEN A RANGE OF NUMBERS\n",
    "def sumRange(num1, num2):\n",
    "    sum = 0\n",
    "    if(num1 < num2):\n",
    "        i = \"Sum of Numbers between {} and {}:\"\n",
    "        print(i.format(num1,num2))\n",
    "        while(num1 <= num2):\n",
    "            sum += num1\n",
    "            num1 += 1\n",
    "        print(sum)\n",
    "    elif(num1 > num2):\n",
    "        i = \"Sum of Numbers between {} and {}: \"\n",
    "        print(i.format(num2,num1))\n",
    "        while(num2 <= num1):\n",
    "            sum += num2\n",
    "            num2 += 1\n",
    "        print(sum)\n",
    "    else:\n",
    "        print(\"We can't work with these values\")\n",
    "            \n",
    "    "
   ]
  },
  {
   "cell_type": "code",
   "execution_count": 11,
   "metadata": {},
   "outputs": [
    {
     "name": "stdout",
     "output_type": "stream",
     "text": [
      "Sum of Numbers between 5 and 15:\n",
      "110\n"
     ]
    }
   ],
   "source": [
    "sumRange(5, 15)"
   ]
  },
  {
   "cell_type": "code",
   "execution_count": 12,
   "metadata": {},
   "outputs": [
    {
     "name": "stdout",
     "output_type": "stream",
     "text": [
      "Sum of Numbers between 50 and 100: \n",
      "3825\n"
     ]
    }
   ],
   "source": [
    "sumRange(100,50)"
   ]
  },
  {
   "cell_type": "code",
   "execution_count": 13,
   "metadata": {},
   "outputs": [
    {
     "name": "stdout",
     "output_type": "stream",
     "text": [
      "Sum of Numbers between 3 and 10:\n",
      "52\n"
     ]
    }
   ],
   "source": [
    "sumRange(3,10)"
   ]
  },
  {
   "cell_type": "code",
   "execution_count": 14,
   "metadata": {},
   "outputs": [
    {
     "name": "stdout",
     "output_type": "stream",
     "text": [
      "We can't work with these values\n"
     ]
    }
   ],
   "source": [
    "sumRange(20,20)"
   ]
  },
  {
   "cell_type": "code",
   "execution_count": null,
   "metadata": {},
   "outputs": [],
   "source": []
  },
  {
   "cell_type": "code",
   "execution_count": null,
   "metadata": {},
   "outputs": [],
   "source": []
  },
  {
   "cell_type": "code",
   "execution_count": null,
   "metadata": {},
   "outputs": [],
   "source": []
  }
 ],
 "metadata": {
  "kernelspec": {
   "display_name": "Python 3",
   "language": "python",
   "name": "python3"
  },
  "language_info": {
   "codemirror_mode": {
    "name": "ipython",
    "version": 3
   },
   "file_extension": ".py",
   "mimetype": "text/x-python",
   "name": "python",
   "nbconvert_exporter": "python",
   "pygments_lexer": "ipython3",
   "version": "3.8.5"
  }
 },
 "nbformat": 4,
 "nbformat_minor": 4
}
