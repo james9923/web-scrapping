{
 "cells": [
  {
   "cell_type": "markdown",
   "metadata": {},
   "source": [
    "# PYTHON COLLECTIONS "
   ]
  },
  {
   "cell_type": "markdown",
   "metadata": {},
   "source": [
    "# LIST COLLECTION"
   ]
  },
  {
   "cell_type": "code",
   "execution_count": 1,
   "metadata": {},
   "outputs": [],
   "source": [
    "carList = [\"Honda\", \"Mercedes\", \"Nissan\", \"Toyota\", \"Honda\", \"Volvo\", \"Toyota\", \"Honda\"]"
   ]
  },
  {
   "cell_type": "code",
   "execution_count": 2,
   "metadata": {},
   "outputs": [
    {
     "name": "stdout",
     "output_type": "stream",
     "text": [
      "['Honda', 'Mercedes', 'Nissan', 'Toyota', 'Honda', 'Volvo', 'Toyota', 'Honda']\n"
     ]
    }
   ],
   "source": [
    "print(carList)"
   ]
  },
  {
   "cell_type": "code",
   "execution_count": 3,
   "metadata": {},
   "outputs": [
    {
     "name": "stdout",
     "output_type": "stream",
     "text": [
      "8\n"
     ]
    }
   ],
   "source": [
    "print(len(carList))  #RETURNS THE LENGTH OF THE LIST i.e NO OF ELEMENTS IN THE LIST"
   ]
  },
  {
   "cell_type": "code",
   "execution_count": 4,
   "metadata": {},
   "outputs": [
    {
     "name": "stdout",
     "output_type": "stream",
     "text": [
      "1\n"
     ]
    }
   ],
   "source": [
    "print(carList.count(\"Mercedes\"))  #HOW MANY TIMES DOES MERCEDES OCCUR IN LIST?"
   ]
  },
  {
   "cell_type": "code",
   "execution_count": 5,
   "metadata": {},
   "outputs": [
    {
     "name": "stdout",
     "output_type": "stream",
     "text": [
      "3\n"
     ]
    }
   ],
   "source": [
    "print(carList.count(\"Honda\"))"
   ]
  },
  {
   "cell_type": "code",
   "execution_count": 6,
   "metadata": {},
   "outputs": [
    {
     "name": "stdout",
     "output_type": "stream",
     "text": [
      "2\n"
     ]
    }
   ],
   "source": [
    "print(carList.count(\"Toyota\"))"
   ]
  },
  {
   "cell_type": "code",
   "execution_count": 7,
   "metadata": {},
   "outputs": [
    {
     "name": "stdout",
     "output_type": "stream",
     "text": [
      "False\n"
     ]
    }
   ],
   "source": [
    "print(\"Rio\" in carList)  #IS RIO PRESENT IN CARLIST?"
   ]
  },
  {
   "cell_type": "code",
   "execution_count": 8,
   "metadata": {},
   "outputs": [
    {
     "name": "stdout",
     "output_type": "stream",
     "text": [
      "True\n"
     ]
    }
   ],
   "source": [
    "print(\"Nissan\" in carList)  #IS NISSAN PRESENT IN carList?"
   ]
  },
  {
   "cell_type": "code",
   "execution_count": 9,
   "metadata": {},
   "outputs": [
    {
     "name": "stdout",
     "output_type": "stream",
     "text": [
      "Oops!!! There's no Peugeout\n"
     ]
    }
   ],
   "source": [
    "if(\"Peugeout\" in carList):\n",
    "    print(\"Yohhhh....There's Peugeout\")\n",
    "else:\n",
    "    print(\"Oops!!! There's no Peugeout\")"
   ]
  },
  {
   "cell_type": "code",
   "execution_count": 10,
   "metadata": {},
   "outputs": [
    {
     "name": "stdout",
     "output_type": "stream",
     "text": [
      "Hurray!!! There's Mercedes\n"
     ]
    }
   ],
   "source": [
    "if(\"Mercedes\" in carList):\n",
    "    print(\"Hurray!!! There's Mercedes\")\n",
    "else:\n",
    "    print(\"Ouch!!! There's no Mercedes\")"
   ]
  },
  {
   "cell_type": "markdown",
   "metadata": {},
   "source": [
    "# ACCESSING THE ITEMS IN A LIST"
   ]
  },
  {
   "cell_type": "code",
   "execution_count": 12,
   "metadata": {},
   "outputs": [
    {
     "name": "stdout",
     "output_type": "stream",
     "text": [
      "['Honda', 'Mercedes', 'Nissan', 'Toyota', 'Honda', 'Volvo', 'Toyota', 'Honda']\n"
     ]
    }
   ],
   "source": [
    "print(carList)"
   ]
  },
  {
   "cell_type": "code",
   "execution_count": 13,
   "metadata": {},
   "outputs": [
    {
     "name": "stdout",
     "output_type": "stream",
     "text": [
      "Nissan\n"
     ]
    }
   ],
   "source": [
    "print(carList[2])"
   ]
  },
  {
   "cell_type": "code",
   "execution_count": 14,
   "metadata": {},
   "outputs": [
    {
     "name": "stdout",
     "output_type": "stream",
     "text": [
      "Honda\n"
     ]
    }
   ],
   "source": [
    "print(carList[4])"
   ]
  },
  {
   "cell_type": "code",
   "execution_count": 15,
   "metadata": {},
   "outputs": [
    {
     "name": "stdout",
     "output_type": "stream",
     "text": [
      "['Nissan', 'Toyota', 'Honda']\n"
     ]
    }
   ],
   "source": [
    "print(carList[2:5])"
   ]
  },
  {
   "cell_type": "code",
   "execution_count": 16,
   "metadata": {},
   "outputs": [
    {
     "name": "stdout",
     "output_type": "stream",
     "text": [
      "['Toyota', 'Honda', 'Volvo', 'Toyota']\n"
     ]
    }
   ],
   "source": [
    "print(carList[3:7])"
   ]
  },
  {
   "cell_type": "code",
   "execution_count": 17,
   "metadata": {},
   "outputs": [
    {
     "name": "stdout",
     "output_type": "stream",
     "text": [
      "['Toyota', 'Honda', 'Volvo', 'Toyota', 'Honda']\n"
     ]
    }
   ],
   "source": [
    "print(carList[3:])"
   ]
  },
  {
   "cell_type": "code",
   "execution_count": 18,
   "metadata": {},
   "outputs": [
    {
     "name": "stdout",
     "output_type": "stream",
     "text": [
      "['Honda', 'Mercedes', 'Nissan', 'Toyota', 'Honda']\n"
     ]
    }
   ],
   "source": [
    "print(carList[:5])"
   ]
  },
  {
   "cell_type": "code",
   "execution_count": 19,
   "metadata": {},
   "outputs": [
    {
     "name": "stdout",
     "output_type": "stream",
     "text": [
      "Honda\n"
     ]
    }
   ],
   "source": [
    "print(carList[4])"
   ]
  },
  {
   "cell_type": "code",
   "execution_count": 20,
   "metadata": {},
   "outputs": [],
   "source": [
    "carList[4] = \"Cheverolet\"  #TO CHANGE THE VALUE OF AN ITEM"
   ]
  },
  {
   "cell_type": "code",
   "execution_count": 21,
   "metadata": {},
   "outputs": [
    {
     "name": "stdout",
     "output_type": "stream",
     "text": [
      "['Honda', 'Mercedes', 'Nissan', 'Toyota', 'Cheverolet', 'Volvo', 'Toyota', 'Honda']\n"
     ]
    }
   ],
   "source": [
    "print(carList)"
   ]
  },
  {
   "cell_type": "code",
   "execution_count": 22,
   "metadata": {},
   "outputs": [],
   "source": [
    "carList.insert(2, \"Bentley\")  #INSERT AN ITEM INTO A PARTICULAR POSITION"
   ]
  },
  {
   "cell_type": "code",
   "execution_count": 23,
   "metadata": {},
   "outputs": [
    {
     "name": "stdout",
     "output_type": "stream",
     "text": [
      "['Honda', 'Mercedes', 'Bentley', 'Nissan', 'Toyota', 'Cheverolet', 'Volvo', 'Toyota', 'Honda']\n"
     ]
    }
   ],
   "source": [
    "print( carList)"
   ]
  },
  {
   "cell_type": "code",
   "execution_count": 24,
   "metadata": {},
   "outputs": [],
   "source": [
    "carList.append(\"Ferrari\")  #ADDS NEW ITEM TO THE END OF THE LIST"
   ]
  },
  {
   "cell_type": "code",
   "execution_count": 25,
   "metadata": {},
   "outputs": [
    {
     "name": "stdout",
     "output_type": "stream",
     "text": [
      "['Honda', 'Mercedes', 'Bentley', 'Nissan', 'Toyota', 'Cheverolet', 'Volvo', 'Toyota', 'Honda', 'Ferrari']\n"
     ]
    }
   ],
   "source": [
    "print(carList)"
   ]
  },
  {
   "cell_type": "markdown",
   "metadata": {},
   "source": [
    "# REMOVING ITEMS FROM A LIST"
   ]
  },
  {
   "cell_type": "code",
   "execution_count": 26,
   "metadata": {},
   "outputs": [],
   "source": [
    "carList.remove(\"Volvo\")   #REMOVE BY VALUE"
   ]
  },
  {
   "cell_type": "code",
   "execution_count": 27,
   "metadata": {},
   "outputs": [
    {
     "name": "stdout",
     "output_type": "stream",
     "text": [
      "['Honda', 'Mercedes', 'Bentley', 'Nissan', 'Toyota', 'Cheverolet', 'Toyota', 'Honda', 'Ferrari']\n"
     ]
    }
   ],
   "source": [
    "print(carList)"
   ]
  },
  {
   "cell_type": "code",
   "execution_count": 28,
   "metadata": {},
   "outputs": [
    {
     "data": {
      "text/plain": [
       "'Honda'"
      ]
     },
     "execution_count": 28,
     "metadata": {},
     "output_type": "execute_result"
    }
   ],
   "source": [
    "carList.pop(7) #REMOVE BY INDEX"
   ]
  },
  {
   "cell_type": "code",
   "execution_count": 29,
   "metadata": {},
   "outputs": [
    {
     "name": "stdout",
     "output_type": "stream",
     "text": [
      "['Honda', 'Mercedes', 'Bentley', 'Nissan', 'Toyota', 'Cheverolet', 'Toyota', 'Ferrari']\n"
     ]
    }
   ],
   "source": [
    "print(carList)"
   ]
  },
  {
   "cell_type": "code",
   "execution_count": 30,
   "metadata": {},
   "outputs": [
    {
     "data": {
      "text/plain": [
       "'Ferrari'"
      ]
     },
     "execution_count": 30,
     "metadata": {},
     "output_type": "execute_result"
    }
   ],
   "source": [
    "carList.pop()  #REMOVES THE LAST ITEM"
   ]
  },
  {
   "cell_type": "code",
   "execution_count": 31,
   "metadata": {},
   "outputs": [
    {
     "name": "stdout",
     "output_type": "stream",
     "text": [
      "['Honda', 'Mercedes', 'Bentley', 'Nissan', 'Toyota', 'Cheverolet', 'Toyota']\n"
     ]
    }
   ],
   "source": [
    "print(carList)"
   ]
  },
  {
   "cell_type": "markdown",
   "metadata": {},
   "source": [
    "# LOOPING THROUGH A LIST"
   ]
  },
  {
   "cell_type": "code",
   "execution_count": 32,
   "metadata": {},
   "outputs": [
    {
     "name": "stdout",
     "output_type": "stream",
     "text": [
      "Honda\n",
      "Mercedes\n",
      "Bentley\n",
      "Nissan\n",
      "Toyota\n",
      "Cheverolet\n",
      "Toyota\n"
     ]
    }
   ],
   "source": [
    "for x in carList:\n",
    "    print(x)"
   ]
  },
  {
   "cell_type": "markdown",
   "metadata": {},
   "source": [
    "# MERGING LISTS"
   ]
  },
  {
   "cell_type": "code",
   "execution_count": 33,
   "metadata": {},
   "outputs": [
    {
     "name": "stdout",
     "output_type": "stream",
     "text": [
      "['Land Cruiser', 'Jeep', 'Highlander', 'Lexus', 'Rio', 'Accent', 'Avalon', 'Yaris', 'Corolla']\n"
     ]
    }
   ],
   "source": [
    "suvList = [\"Land Cruiser\", \"Jeep\", \"Highlander\", \"Lexus\"]\n",
    "salonList = [\"Rio\", \"Accent\", \"Avalon\",\"Yaris\", \"Corolla\"]\n",
    "\n",
    "car = suvList + salonList\n",
    "print(car)"
   ]
  },
  {
   "cell_type": "markdown",
   "metadata": {},
   "source": [
    "# TUPLE COLLECTION"
   ]
  },
  {
   "cell_type": "code",
   "execution_count": 34,
   "metadata": {},
   "outputs": [],
   "source": [
    "pcList = (\"Toshiba\", \"HP\", \"Dell\", \"Zinox\", \"Macintosh\")"
   ]
  },
  {
   "cell_type": "code",
   "execution_count": 35,
   "metadata": {},
   "outputs": [
    {
     "name": "stdout",
     "output_type": "stream",
     "text": [
      "('Toshiba', 'HP', 'Dell', 'Zinox', 'Macintosh')\n"
     ]
    }
   ],
   "source": [
    "print(pcList)"
   ]
  },
  {
   "cell_type": "code",
   "execution_count": 38,
   "metadata": {},
   "outputs": [],
   "source": [
    "# TO MAKE CHANGES TO A TUPLE, CONVERT IT TO A LIST, MAKE THE CHANGES TO IT WHILE A LIST AND THEN CONVERT BACK TO TUPLE"
   ]
  },
  {
   "cell_type": "code",
   "execution_count": 39,
   "metadata": {},
   "outputs": [
    {
     "name": "stdout",
     "output_type": "stream",
     "text": [
      "<class 'tuple'>\n"
     ]
    }
   ],
   "source": [
    "print(type(pcList))"
   ]
  },
  {
   "cell_type": "code",
   "execution_count": 40,
   "metadata": {},
   "outputs": [],
   "source": [
    "pc = list(pcList)  #CONVERTING A TUPLE TO A LIST"
   ]
  },
  {
   "cell_type": "code",
   "execution_count": 41,
   "metadata": {},
   "outputs": [
    {
     "name": "stdout",
     "output_type": "stream",
     "text": [
      "<class 'list'>\n"
     ]
    }
   ],
   "source": [
    "print(type(pc))"
   ]
  },
  {
   "cell_type": "code",
   "execution_count": 42,
   "metadata": {},
   "outputs": [
    {
     "name": "stdout",
     "output_type": "stream",
     "text": [
      "['Toshiba', 'HP', 'Dell', 'Zinox', 'Macintosh']\n"
     ]
    }
   ],
   "source": [
    "print(pc)"
   ]
  },
  {
   "cell_type": "code",
   "execution_count": 43,
   "metadata": {},
   "outputs": [],
   "source": [
    "pc.append(\"Compaq\")"
   ]
  },
  {
   "cell_type": "code",
   "execution_count": 44,
   "metadata": {},
   "outputs": [
    {
     "name": "stdout",
     "output_type": "stream",
     "text": [
      "['Toshiba', 'HP', 'Dell', 'Zinox', 'Macintosh', 'Compaq']\n"
     ]
    }
   ],
   "source": [
    "print(pc)"
   ]
  },
  {
   "cell_type": "code",
   "execution_count": 45,
   "metadata": {},
   "outputs": [],
   "source": [
    "pc.insert(2, \"Samsung\")"
   ]
  },
  {
   "cell_type": "code",
   "execution_count": 46,
   "metadata": {},
   "outputs": [
    {
     "name": "stdout",
     "output_type": "stream",
     "text": [
      "['Toshiba', 'HP', 'Samsung', 'Dell', 'Zinox', 'Macintosh', 'Compaq']\n"
     ]
    }
   ],
   "source": [
    "print(pc)"
   ]
  },
  {
   "cell_type": "code",
   "execution_count": 47,
   "metadata": {},
   "outputs": [],
   "source": [
    "pcList = tuple(pc)  #CONVERTING LIST BACK TO TUPLE AFTER MAKING CHANGES"
   ]
  },
  {
   "cell_type": "code",
   "execution_count": 48,
   "metadata": {},
   "outputs": [
    {
     "name": "stdout",
     "output_type": "stream",
     "text": [
      "<class 'tuple'>\n"
     ]
    }
   ],
   "source": [
    "print(type(pcList))"
   ]
  },
  {
   "cell_type": "code",
   "execution_count": 49,
   "metadata": {},
   "outputs": [
    {
     "name": "stdout",
     "output_type": "stream",
     "text": [
      "('Toshiba', 'HP', 'Samsung', 'Dell', 'Zinox', 'Macintosh', 'Compaq')\n"
     ]
    }
   ],
   "source": [
    "print(pcList)"
   ]
  },
  {
   "cell_type": "markdown",
   "metadata": {},
   "source": [
    "# ACCESSING ITEMS IN A TUPLE"
   ]
  },
  {
   "cell_type": "code",
   "execution_count": 50,
   "metadata": {},
   "outputs": [
    {
     "name": "stdout",
     "output_type": "stream",
     "text": [
      "Dell\n"
     ]
    }
   ],
   "source": [
    "print(pcList[3])"
   ]
  },
  {
   "cell_type": "code",
   "execution_count": 51,
   "metadata": {},
   "outputs": [
    {
     "name": "stdout",
     "output_type": "stream",
     "text": [
      "('HP', 'Samsung', 'Dell')\n"
     ]
    }
   ],
   "source": [
    "print(pcList[1:4])"
   ]
  },
  {
   "cell_type": "code",
   "execution_count": 52,
   "metadata": {},
   "outputs": [
    {
     "name": "stdout",
     "output_type": "stream",
     "text": [
      "True\n"
     ]
    }
   ],
   "source": [
    "print(\"Samsung\" in pcList)"
   ]
  },
  {
   "cell_type": "code",
   "execution_count": 53,
   "metadata": {},
   "outputs": [
    {
     "name": "stdout",
     "output_type": "stream",
     "text": [
      "False\n"
     ]
    }
   ],
   "source": [
    "print(\"Acer\" in pcList)"
   ]
  },
  {
   "cell_type": "markdown",
   "metadata": {},
   "source": [
    "# MERGING TUPLE"
   ]
  },
  {
   "cell_type": "code",
   "execution_count": 54,
   "metadata": {},
   "outputs": [],
   "source": [
    "cmyk = (\"Cyan\", \"Magenta\", \"Yellow\", \"Black\")\n",
    "rgb = (\"Red\", \"Green\", \"Blue\")"
   ]
  },
  {
   "cell_type": "code",
   "execution_count": 55,
   "metadata": {},
   "outputs": [],
   "source": [
    "color = rgb + cmyk"
   ]
  },
  {
   "cell_type": "code",
   "execution_count": 56,
   "metadata": {},
   "outputs": [
    {
     "name": "stdout",
     "output_type": "stream",
     "text": [
      "('Red', 'Green', 'Blue', 'Cyan', 'Magenta', 'Yellow', 'Black')\n"
     ]
    }
   ],
   "source": [
    "print(color)"
   ]
  },
  {
   "cell_type": "code",
   "execution_count": 58,
   "metadata": {},
   "outputs": [
    {
     "name": "stdout",
     "output_type": "stream",
     "text": [
      "Red\n",
      "Green\n",
      "Blue\n",
      "Cyan\n",
      "Magenta\n",
      "Yellow\n",
      "Black\n"
     ]
    }
   ],
   "source": [
    "for colors in color:\n",
    "    print(colors)"
   ]
  },
  {
   "cell_type": "markdown",
   "metadata": {},
   "source": [
    "# SET COLLECTION"
   ]
  },
  {
   "cell_type": "code",
   "execution_count": 1,
   "metadata": {},
   "outputs": [],
   "source": [
    "designTools = {\"Photoshop\", \"Premiere Pro\", \"Illustrator\", \"Photoshop\"}"
   ]
  },
  {
   "cell_type": "code",
   "execution_count": 2,
   "metadata": {},
   "outputs": [
    {
     "name": "stdout",
     "output_type": "stream",
     "text": [
      "{'Photoshop', 'Illustrator', 'Premiere Pro'}\n"
     ]
    }
   ],
   "source": [
    "print(designTools)"
   ]
  },
  {
   "cell_type": "code",
   "execution_count": 3,
   "metadata": {},
   "outputs": [],
   "source": [
    "designTools.add(\"Blender\")  #ADDING NEW ITEMS TO A SET"
   ]
  },
  {
   "cell_type": "code",
   "execution_count": 4,
   "metadata": {},
   "outputs": [],
   "source": [
    "designTools.add(\"Corel Draw\")"
   ]
  },
  {
   "cell_type": "code",
   "execution_count": 5,
   "metadata": {},
   "outputs": [
    {
     "name": "stdout",
     "output_type": "stream",
     "text": [
      "{'Blender', 'Photoshop', 'Illustrator', 'Premiere Pro', 'Corel Draw'}\n"
     ]
    }
   ],
   "source": [
    "print(designTools)"
   ]
  },
  {
   "cell_type": "code",
   "execution_count": 6,
   "metadata": {},
   "outputs": [
    {
     "name": "stdout",
     "output_type": "stream",
     "text": [
      "{'Blender', 'Photoshop', 'Illustrator', 'Premiere Pro', 'Corel Draw'}\n"
     ]
    }
   ],
   "source": [
    "print(designTools)"
   ]
  },
  {
   "cell_type": "code",
   "execution_count": 7,
   "metadata": {},
   "outputs": [],
   "source": [
    "designTools.update([\"After Effect\", \"Figma\", \"XD\"])  #ADDING MULTIPLES ITEMS AT A TIME"
   ]
  },
  {
   "cell_type": "code",
   "execution_count": 8,
   "metadata": {},
   "outputs": [
    {
     "name": "stdout",
     "output_type": "stream",
     "text": [
      "{'Blender', 'Photoshop', 'Illustrator', 'Premiere Pro', 'Figma', 'Corel Draw', 'XD', 'After Effect'}\n"
     ]
    }
   ],
   "source": [
    "print(designTools)"
   ]
  },
  {
   "cell_type": "code",
   "execution_count": 10,
   "metadata": {},
   "outputs": [
    {
     "name": "stdout",
     "output_type": "stream",
     "text": [
      "True\n"
     ]
    }
   ],
   "source": [
    "print(\"Photoshop\" in designTools)"
   ]
  },
  {
   "cell_type": "code",
   "execution_count": 11,
   "metadata": {},
   "outputs": [
    {
     "name": "stdout",
     "output_type": "stream",
     "text": [
      "False\n"
     ]
    }
   ],
   "source": [
    "print(\"Sketch\" in designTools)"
   ]
  },
  {
   "cell_type": "markdown",
   "metadata": {},
   "source": [
    "# UNION OF SET"
   ]
  },
  {
   "cell_type": "code",
   "execution_count": 12,
   "metadata": {},
   "outputs": [],
   "source": [
    "webDev = {\"HTML\", \"CSS\", \"PHP\", \"MySQL\", \"JS\", \"Mongo DB\"}\n",
    "frontEnd = {\"HTML\", \"CSS\", \"JS\", \"React\", \"Angular\"}"
   ]
  },
  {
   "cell_type": "code",
   "execution_count": 13,
   "metadata": {},
   "outputs": [],
   "source": [
    "course = webDev.union(frontEnd)"
   ]
  },
  {
   "cell_type": "code",
   "execution_count": 14,
   "metadata": {},
   "outputs": [
    {
     "name": "stdout",
     "output_type": "stream",
     "text": [
      "{'CSS', 'PHP', 'React', 'Mongo DB', 'JS', 'HTML', 'MySQL', 'Angular'}\n"
     ]
    }
   ],
   "source": [
    "print(course)"
   ]
  },
  {
   "cell_type": "code",
   "execution_count": 15,
   "metadata": {},
   "outputs": [],
   "source": [
    "course.remove(\"PHP\")  #REMOVING ITEMS FROM A SET"
   ]
  },
  {
   "cell_type": "code",
   "execution_count": 16,
   "metadata": {},
   "outputs": [
    {
     "name": "stdout",
     "output_type": "stream",
     "text": [
      "{'CSS', 'React', 'Mongo DB', 'JS', 'HTML', 'MySQL', 'Angular'}\n"
     ]
    }
   ],
   "source": [
    "print(course)"
   ]
  },
  {
   "cell_type": "markdown",
   "metadata": {},
   "source": [
    "# DICTIONARY COLLECTION\n"
   ]
  },
  {
   "cell_type": "code",
   "execution_count": 17,
   "metadata": {},
   "outputs": [],
   "source": [
    "# DICTIONARIES ARE USED TO STORE DATA IN KEY-VALUE PAIR"
   ]
  },
  {
   "cell_type": "code",
   "execution_count": 18,
   "metadata": {},
   "outputs": [],
   "source": [
    "employee = {\"firstname\": \"James\", \"lastname\":\"Babalola\", \"gender\": \"Male\", \"salary\":50000}"
   ]
  },
  {
   "cell_type": "code",
   "execution_count": 19,
   "metadata": {},
   "outputs": [
    {
     "name": "stdout",
     "output_type": "stream",
     "text": [
      "Babalola\n"
     ]
    }
   ],
   "source": [
    "print(employee['lastname'])"
   ]
  },
  {
   "cell_type": "code",
   "execution_count": 20,
   "metadata": {},
   "outputs": [
    {
     "name": "stdout",
     "output_type": "stream",
     "text": [
      "50000\n"
     ]
    }
   ],
   "source": [
    "print(employee['salary'])"
   ]
  },
  {
   "cell_type": "code",
   "execution_count": 21,
   "metadata": {},
   "outputs": [],
   "source": [
    "# TO CHANGE THE VALUE OF AN ITEM IN A DICTIONARY\n",
    "\n",
    "employee['salary'] = 75000"
   ]
  },
  {
   "cell_type": "code",
   "execution_count": 22,
   "metadata": {},
   "outputs": [
    {
     "name": "stdout",
     "output_type": "stream",
     "text": [
      "{'firstname': 'James', 'lastname': 'Babalola', 'gender': 'Male', 'salary': 75000}\n"
     ]
    }
   ],
   "source": [
    "print(employee)"
   ]
  },
  {
   "cell_type": "code",
   "execution_count": 23,
   "metadata": {},
   "outputs": [],
   "source": [
    "# TO ADD NEW ITEMS TO A DICTIONARY\n",
    "employee['email'] = \"jaystar1311@gmail.com\""
   ]
  },
  {
   "cell_type": "code",
   "execution_count": 24,
   "metadata": {},
   "outputs": [],
   "source": [
    "employee[\"Phone\"] = \"07039069923\""
   ]
  },
  {
   "cell_type": "code",
   "execution_count": 25,
   "metadata": {},
   "outputs": [
    {
     "name": "stdout",
     "output_type": "stream",
     "text": [
      "{'firstname': 'James', 'lastname': 'Babalola', 'gender': 'Male', 'salary': 75000, 'email': 'jaystar1311@gmail.com', 'Phone': '07039069923'}\n"
     ]
    }
   ],
   "source": [
    "print(employee)"
   ]
  },
  {
   "cell_type": "code",
   "execution_count": 26,
   "metadata": {},
   "outputs": [
    {
     "data": {
      "text/plain": [
       "'07039069923'"
      ]
     },
     "execution_count": 26,
     "metadata": {},
     "output_type": "execute_result"
    }
   ],
   "source": [
    "# TO REMOVE AN ITEM FROM A DICTIONARY\n",
    "employee.pop(\"Phone\")"
   ]
  },
  {
   "cell_type": "code",
   "execution_count": 27,
   "metadata": {},
   "outputs": [
    {
     "name": "stdout",
     "output_type": "stream",
     "text": [
      "{'firstname': 'James', 'lastname': 'Babalola', 'gender': 'Male', 'salary': 75000, 'email': 'jaystar1311@gmail.com'}\n"
     ]
    }
   ],
   "source": [
    "print(employee)"
   ]
  },
  {
   "cell_type": "code",
   "execution_count": null,
   "metadata": {},
   "outputs": [],
   "source": []
  }
 ],
 "metadata": {
  "kernelspec": {
   "display_name": "Python 3",
   "language": "python",
   "name": "python3"
  },
  "language_info": {
   "codemirror_mode": {
    "name": "ipython",
    "version": 3
   },
   "file_extension": ".py",
   "mimetype": "text/x-python",
   "name": "python",
   "nbconvert_exporter": "python",
   "pygments_lexer": "ipython3",
   "version": "3.8.5"
  }
 },
 "nbformat": 4,
 "nbformat_minor": 4
}
