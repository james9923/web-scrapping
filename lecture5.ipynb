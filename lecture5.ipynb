{
 "cells": [
  {
   "cell_type": "markdown",
   "metadata": {},
   "source": [
    "# FUNCTIONS"
   ]
  },
  {
   "cell_type": "code",
   "execution_count": 1,
   "metadata": {},
   "outputs": [],
   "source": [
    "# A FUNCTION IS A BLOCK OF CODE THAT IS EXECUTED/RUN WHENEVER IT IS CALLED"
   ]
  },
  {
   "cell_type": "code",
   "execution_count": 2,
   "metadata": {},
   "outputs": [],
   "source": [
    "def hello():\n",
    "    print(\"Welcome to our Python Class\")\n",
    "    print(\"Python is a very interesting programming language\")\n",
    "    print(\"You will enjoy learning it\")"
   ]
  },
  {
   "cell_type": "code",
   "execution_count": 3,
   "metadata": {},
   "outputs": [
    {
     "name": "stdout",
     "output_type": "stream",
     "text": [
      "Welcome to our Python Class\n",
      "Python is a very interesting programming language\n",
      "You will enjoy learning it\n"
     ]
    }
   ],
   "source": [
    "hello()  #FUNCTION CALL"
   ]
  },
  {
   "cell_type": "code",
   "execution_count": 4,
   "metadata": {},
   "outputs": [
    {
     "name": "stdout",
     "output_type": "stream",
     "text": [
      "Welcome to our Python Class\n",
      "Python is a very interesting programming language\n",
      "You will enjoy learning it\n"
     ]
    }
   ],
   "source": [
    "hello()"
   ]
  },
  {
   "cell_type": "code",
   "execution_count": 5,
   "metadata": {},
   "outputs": [],
   "source": [
    "def add():\n",
    "    x = 5\n",
    "    y = 3\n",
    "    z = 2\n",
    "    sum = (x+y+z)\n",
    "    result = \"The sum of {}, {} and {} is {}\"\n",
    "    print(result.format(x,y,z,sum))"
   ]
  },
  {
   "cell_type": "code",
   "execution_count": 6,
   "metadata": {},
   "outputs": [
    {
     "name": "stdout",
     "output_type": "stream",
     "text": [
      "The sum of 5, 3 and 2 is 10\n"
     ]
    }
   ],
   "source": [
    "add()"
   ]
  },
  {
   "cell_type": "code",
   "execution_count": 7,
   "metadata": {},
   "outputs": [
    {
     "name": "stdout",
     "output_type": "stream",
     "text": [
      "Welcome to our Python Class\n",
      "Python is a very interesting programming language\n",
      "You will enjoy learning it\n"
     ]
    }
   ],
   "source": [
    "hello()"
   ]
  },
  {
   "cell_type": "code",
   "execution_count": 8,
   "metadata": {},
   "outputs": [
    {
     "name": "stdout",
     "output_type": "stream",
     "text": [
      "The sum of 5, 3 and 2 is 10\n"
     ]
    }
   ],
   "source": [
    "add()"
   ]
  },
  {
   "cell_type": "code",
   "execution_count": 9,
   "metadata": {},
   "outputs": [],
   "source": [
    "def multiply():\n",
    "    x = 3\n",
    "    y = 15\n",
    "    z = 24\n",
    "    product = (x*y*z)\n",
    "    result = \"The product of {}, {} and {} is {}\"\n",
    "    print(result.format(x,y,z,product))"
   ]
  },
  {
   "cell_type": "code",
   "execution_count": 10,
   "metadata": {},
   "outputs": [
    {
     "name": "stdout",
     "output_type": "stream",
     "text": [
      "The product of 3, 15 and 24 is 1080\n"
     ]
    }
   ],
   "source": [
    "multiply()"
   ]
  },
  {
   "cell_type": "code",
   "execution_count": 11,
   "metadata": {},
   "outputs": [],
   "source": [
    "def greeting(name):\n",
    "    print(\"Hello, \" + name)\n",
    "    print(\"Nice to have you here\")"
   ]
  },
  {
   "cell_type": "code",
   "execution_count": 14,
   "metadata": {},
   "outputs": [
    {
     "name": "stdout",
     "output_type": "stream",
     "text": [
      "Hello, John\n",
      "Nice to have you here\n"
     ]
    }
   ],
   "source": [
    "greeting(\"John\")"
   ]
  },
  {
   "cell_type": "code",
   "execution_count": 15,
   "metadata": {},
   "outputs": [
    {
     "name": "stdout",
     "output_type": "stream",
     "text": [
      "Hello, Chikezie\n",
      "Nice to have you here\n"
     ]
    }
   ],
   "source": [
    "greeting(\"Chikezie\")"
   ]
  },
  {
   "cell_type": "code",
   "execution_count": 17,
   "metadata": {},
   "outputs": [],
   "source": [
    "name = \"Tony Robbins\""
   ]
  },
  {
   "cell_type": "code",
   "execution_count": 18,
   "metadata": {},
   "outputs": [
    {
     "name": "stdout",
     "output_type": "stream",
     "text": [
      "Hello, Tony Robbins\n",
      "Nice to have you here\n"
     ]
    }
   ],
   "source": [
    "greeting(name)"
   ]
  },
  {
   "cell_type": "code",
   "execution_count": 19,
   "metadata": {},
   "outputs": [],
   "source": [
    "myName = \"James Babalola\""
   ]
  },
  {
   "cell_type": "code",
   "execution_count": 20,
   "metadata": {},
   "outputs": [
    {
     "name": "stdout",
     "output_type": "stream",
     "text": [
      "Hello, James Babalola\n",
      "Nice to have you here\n"
     ]
    }
   ],
   "source": [
    "greeting(myName)"
   ]
  },
  {
   "cell_type": "code",
   "execution_count": 21,
   "metadata": {},
   "outputs": [],
   "source": [
    "def addition(num1, num2, num3):\n",
    "    sum = (num1+num2+num3)\n",
    "    result = \"The sum of {}, {} and {} is {}\"\n",
    "    print(result.format(num1, num2,num3,sum))"
   ]
  },
  {
   "cell_type": "code",
   "execution_count": 22,
   "metadata": {},
   "outputs": [
    {
     "name": "stdout",
     "output_type": "stream",
     "text": [
      "The sum of 24, 32 and 16 is 72\n"
     ]
    }
   ],
   "source": [
    "addition(24,32,16)"
   ]
  },
  {
   "cell_type": "code",
   "execution_count": 23,
   "metadata": {},
   "outputs": [
    {
     "name": "stdout",
     "output_type": "stream",
     "text": [
      "The sum of 100, 100 and 100 is 300\n"
     ]
    }
   ],
   "source": [
    "addition(100,100,100)"
   ]
  },
  {
   "cell_type": "code",
   "execution_count": 24,
   "metadata": {},
   "outputs": [],
   "source": [
    "a = 96\n",
    "b = 53\n",
    "c = 81"
   ]
  },
  {
   "cell_type": "code",
   "execution_count": 25,
   "metadata": {},
   "outputs": [
    {
     "name": "stdout",
     "output_type": "stream",
     "text": [
      "The sum of 96, 53 and 81 is 230\n"
     ]
    }
   ],
   "source": [
    "addition(a,b,c)"
   ]
  },
  {
   "cell_type": "code",
   "execution_count": 26,
   "metadata": {},
   "outputs": [],
   "source": [
    " # FUNCTION TO CALCULATE THE SUM AND PRODUCT OF 3 NUMBERS"
   ]
  },
  {
   "cell_type": "code",
   "execution_count": 29,
   "metadata": {},
   "outputs": [],
   "source": [
    "def addpro(m,n,o):\n",
    "    sum = (m+n+o)\n",
    "    product = (m*n*o)\n",
    "    r1 = \"The sum of {}, {} and {} is {}\"\n",
    "    print(r1.format(m,n,o,sum))\n",
    "    r2 = \"The product of {}, {} and {} is {}\"\n",
    "    print(r2.format(m,n,o,product))"
   ]
  },
  {
   "cell_type": "code",
   "execution_count": 30,
   "metadata": {},
   "outputs": [
    {
     "name": "stdout",
     "output_type": "stream",
     "text": [
      "The sum of 15, 15 and 10 is 40\n",
      "The product of 15, 15 and 10 is 2250\n"
     ]
    }
   ],
   "source": [
    "addpro(15,15,10)"
   ]
  },
  {
   "cell_type": "code",
   "execution_count": 39,
   "metadata": {},
   "outputs": [],
   "source": [
    "def welcome(name,gender):\n",
    "    if(gender == \"Male\"  gender == \"male\"):\n",
    "        print(\"Hello Sir, @\" + name)\n",
    "        #print(\"Thanks for being here\")\n",
    "    elif(gender == \"Female\" or gender == \"female\"):\n",
    "        print(\"Hello Ma, @\" + name)\n",
    "       # print(\"Thanks for being here\")\n",
    "    else:\n",
    "        print(\"Oops!!! There's an issue with Gender\")\n",
    "        \n",
    "    print(\"Thanks for being here\")\n",
    "    "
   ]
  },
  {
   "cell_type": "code",
   "execution_count": 35,
   "metadata": {},
   "outputs": [
    {
     "name": "stdout",
     "output_type": "stream",
     "text": [
      "Hello Ma, @Tope\n",
      "Thanks for being here\n"
     ]
    }
   ],
   "source": [
    "welcome(\"Tope\", \"female\")"
   ]
  },
  {
   "cell_type": "code",
   "execution_count": 36,
   "metadata": {},
   "outputs": [
    {
     "name": "stdout",
     "output_type": "stream",
     "text": [
      "Hello Sir, @Samson\n",
      "Thanks for being here\n"
     ]
    }
   ],
   "source": [
    "welcome(\"Samson\", \"Male\")"
   ]
  },
  {
   "cell_type": "code",
   "execution_count": 38,
   "metadata": {},
   "outputs": [
    {
     "name": "stdout",
     "output_type": "stream",
     "text": [
      "Oops!!! There's an issue with Gender\n"
     ]
    }
   ],
   "source": [
    "welcome(\"Janes\", \"x\")"
   ]
  },
  {
   "cell_type": "code",
   "execution_count": 40,
   "metadata": {},
   "outputs": [
    {
     "name": "stdout",
     "output_type": "stream",
     "text": [
      "Oops!!! There's an issue with Gender\n",
      "Thanks for being here\n"
     ]
    }
   ],
   "source": [
    "welcome(\"Funsho\", \"oa\")"
   ]
  },
  {
   "cell_type": "code",
   "execution_count": 44,
   "metadata": {},
   "outputs": [],
   "source": [
    "def calculate(qty, price, tax = 7.5):\n",
    "    amount = (qty * price)\n",
    "    total = (((tax/100)*amount)+amount)\n",
    "    \n",
    "    result = \"The price of {} pairs of shoes at ${} each is ${}. With {}% tax, total price becomes ${}\"\n",
    "    print(result.format(qty, price, amount, tax, total))"
   ]
  },
  {
   "cell_type": "code",
   "execution_count": 45,
   "metadata": {},
   "outputs": [
    {
     "name": "stdout",
     "output_type": "stream",
     "text": [
      "The price of 5 pairs of shoes at $175.75 each is $878.75. With 7.5% tax, total price becomes $944.65625\n"
     ]
    }
   ],
   "source": [
    "calculate(5,175.75)"
   ]
  },
  {
   "cell_type": "code",
   "execution_count": 46,
   "metadata": {},
   "outputs": [
    {
     "name": "stdout",
     "output_type": "stream",
     "text": [
      "The price of 7 pairs of shoes at $200 each is $1400. With 5% tax, total price becomes $1470.0\n"
     ]
    }
   ],
   "source": [
    "calculate(7,200,5)"
   ]
  },
  {
   "cell_type": "code",
   "execution_count": 1,
   "metadata": {},
   "outputs": [],
   "source": [
    "from module3 import rangeOfNumbers as rn"
   ]
  },
  {
   "cell_type": "code",
   "execution_count": 2,
   "metadata": {},
   "outputs": [
    {
     "name": "stdout",
     "output_type": "stream",
     "text": [
      "Range of Numbers between 5 and 20\n",
      "5\n",
      "6\n",
      "7\n",
      "8\n",
      "9\n",
      "10\n",
      "11\n",
      "12\n",
      "13\n",
      "14\n",
      "15\n",
      "16\n",
      "17\n",
      "18\n",
      "19\n",
      "20\n"
     ]
    }
   ],
   "source": [
    "rn(5, 20)"
   ]
  },
  {
   "cell_type": "code",
   "execution_count": 3,
   "metadata": {},
   "outputs": [
    {
     "name": "stdout",
     "output_type": "stream",
     "text": [
      "Range of Numbers between 3 and 10\n",
      "3\n",
      "4\n",
      "5\n",
      "6\n",
      "7\n",
      "8\n",
      "9\n",
      "10\n"
     ]
    }
   ],
   "source": [
    "rn(10,3)"
   ]
  },
  {
   "cell_type": "code",
   "execution_count": 4,
   "metadata": {},
   "outputs": [],
   "source": [
    "from module3 import multiplication"
   ]
  },
  {
   "cell_type": "code",
   "execution_count": 5,
   "metadata": {},
   "outputs": [
    {
     "name": "stdout",
     "output_type": "stream",
     "text": [
      "10 x 1 = 10\n",
      "10 x 2 = 20\n",
      "10 x 3 = 30\n",
      "10 x 4 = 40\n",
      "10 x 5 = 50\n",
      "10 x 6 = 60\n",
      "10 x 7 = 70\n",
      "10 x 8 = 80\n",
      "10 x 9 = 90\n",
      "10 x 10 = 100\n",
      "10 x 11 = 110\n",
      "10 x 12 = 120\n"
     ]
    }
   ],
   "source": [
    "multiplication(10)"
   ]
  },
  {
   "cell_type": "code",
   "execution_count": null,
   "metadata": {},
   "outputs": [],
   "source": []
  }
 ],
 "metadata": {
  "kernelspec": {
   "display_name": "Python 3",
   "language": "python",
   "name": "python3"
  },
  "language_info": {
   "codemirror_mode": {
    "name": "ipython",
    "version": 3
   },
   "file_extension": ".py",
   "mimetype": "text/x-python",
   "name": "python",
   "nbconvert_exporter": "python",
   "pygments_lexer": "ipython3",
   "version": "3.8.5"
  }
 },
 "nbformat": 4,
 "nbformat_minor": 4
}
